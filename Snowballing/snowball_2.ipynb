version https://git-lfs.github.com/spec/v1
oid sha256:e7e6fb9bed8c3b066e508def4ffbf2db3f9c68556df852c79ad4fc3244aece15
size 20418
